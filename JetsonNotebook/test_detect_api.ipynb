{
 "cells": [
  {
   "cell_type": "code",
   "execution_count": 2,
   "metadata": {},
   "outputs": [
    {
     "name": "stdout",
     "output_type": "stream",
     "text": [
      "{'cls': 'stop', 'confident': '0.8241', 'xmax': 117, 'xmin': 77, 'ymax': 128, 'ymin': 55}\n"
     ]
    }
   ],
   "source": [
    "import requests\n",
    "\n",
    "def upload_image(api_url, image_path, throttle, steering, road_x, road_y):\n",
    "    \"\"\"\n",
    "    Upload an image to the specified API URL and return the response.\n",
    "\n",
    "    Args:\n",
    "        image_path (str): The path to the image file to upload.\n",
    "        api_url (str): The API endpoint URL for image detection.\n",
    "\n",
    "    Returns:\n",
    "        dict: The JSON response from the server containing detections.\n",
    "    \"\"\"\n",
    "    # Open the image file in binary mode\n",
    "    with open(image_path, 'rb') as img_file:\n",
    "        # Define the files parameter for the request\n",
    "        files = {'image': img_file}\n",
    "        data = {\n",
    "            'throttle': throttle,\n",
    "            'steering': steering,\n",
    "            'road_x': road_x,\n",
    "            'road_y': road_y\n",
    "        }\n",
    "        # Send the POST request to the API\n",
    "        response = requests.post(api_url, files=files, data=data)\n",
    "        \n",
    "        # Raise an error if the request was unsuccessful\n",
    "        response.raise_for_status()\n",
    "        \n",
    "        # Parse the JSON response\n",
    "        detections = response.json()\n",
    "    \n",
    "    return detections\n",
    "\n",
    "# Define the image path and the API URL\n",
    "img_path = 'stop_test.jpeg'\n",
    "api_url = 'http://192.168.45.247:8485/detect'  # Replace with your API URL\n",
    "\n",
    "# Call the function and print the response\n",
    "detections = upload_image(api_url, img_path, 0.28, 0.6, 120, 100)\n",
    "print(detections)"
   ]
  },
  {
   "cell_type": "code",
   "execution_count": null,
   "metadata": {},
   "outputs": [],
   "source": []
  },
  {
   "cell_type": "code",
   "execution_count": null,
   "metadata": {},
   "outputs": [],
   "source": []
  },
  {
   "cell_type": "code",
   "execution_count": null,
   "metadata": {},
   "outputs": [],
   "source": []
  }
 ],
 "metadata": {
  "kernelspec": {
   "display_name": "Python 3",
   "language": "python",
   "name": "python3"
  },
  "language_info": {
   "codemirror_mode": {
    "name": "ipython",
    "version": 3
   },
   "file_extension": ".py",
   "mimetype": "text/x-python",
   "name": "python",
   "nbconvert_exporter": "python",
   "pygments_lexer": "ipython3",
   "version": "3.6.9"
  }
 },
 "nbformat": 4,
 "nbformat_minor": 4
}
